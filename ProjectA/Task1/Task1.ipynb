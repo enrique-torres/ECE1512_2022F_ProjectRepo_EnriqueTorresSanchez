{
  "cells": [
    {
      "cell_type": "markdown",
      "metadata": {
        "id": "6WYMfvCNPwpm"
      },
      "source": [
        "# Project A: Knowledge Distillation for Building Lightweight Deep Learning Models in Visual Classification Tasks"
      ]
    },
    {
      "cell_type": "code",
      "execution_count": 23,
      "metadata": {
        "id": "vA8ppgB2P0aJ"
      },
      "outputs": [
        {
          "name": "stdout",
          "output_type": "stream",
          "text": [
            "[PhysicalDevice(name='/physical_device:GPU:0', device_type='GPU')]\n"
          ]
        }
      ],
      "source": [
        "import tensorflow as tf\n",
        "import tensorflow_datasets as tfds\n",
        "from typing import Union\n",
        "\n",
        "#tf.enable_v2_behavior()\n",
        "print(tf.config.list_physical_devices('GPU'))\n",
        "\n",
        "builder = tfds.builder('mnist')\n",
        "BATCH_SIZE = 256\n",
        "NUM_EPOCHS = 12\n",
        "NUM_CLASSES = 10  # 10 total classes."
      ]
    },
    {
      "cell_type": "markdown",
      "metadata": {
        "id": "H2EFLQROP2R7"
      },
      "source": [
        "# Data loading"
      ]
    },
    {
      "cell_type": "code",
      "execution_count": 24,
      "metadata": {
        "id": "ynByMG_UP4A4"
      },
      "outputs": [],
      "source": [
        "# Load train and test splits.\n",
        "def preprocess(x):\n",
        "  image = tf.image.convert_image_dtype(x['image'], tf.float32)\n",
        "  subclass_labels = tf.one_hot(x['label'], builder.info.features['label'].num_classes)\n",
        "  return image, subclass_labels\n",
        "\n",
        "\n",
        "mnist_train = tfds.load('mnist', split='train', shuffle_files=False).cache()\n",
        "mnist_train = mnist_train.map(preprocess)\n",
        "mnist_train = mnist_train.shuffle(builder.info.splits['train'].num_examples)\n",
        "mnist_train = mnist_train.batch(BATCH_SIZE, drop_remainder=True)\n",
        "\n",
        "mnist_test = tfds.load('mnist', split='test').cache()\n",
        "mnist_test = mnist_test.map(preprocess).batch(BATCH_SIZE)"
      ]
    },
    {
      "cell_type": "markdown",
      "metadata": {
        "id": "kAZwfvW5P63q"
      },
      "source": [
        "# Model creation"
      ]
    },
    {
      "cell_type": "code",
      "execution_count": 25,
      "metadata": {
        "id": "zINgDkA7P7BP"
      },
      "outputs": [
        {
          "name": "stdout",
          "output_type": "stream",
          "text": [
            "Model: \"sequential_3\"\n",
            "_________________________________________________________________\n",
            "Layer (type)                 Output Shape              Param #   \n",
            "=================================================================\n",
            "Conv1 (Conv2D)               (None, 26, 26, 32)        320       \n",
            "_________________________________________________________________\n",
            "MaxPool1 (MaxPooling2D)      (None, 25, 25, 32)        0         \n",
            "_________________________________________________________________\n",
            "Conv2 (Conv2D)               (None, 23, 23, 64)        18496     \n",
            "_________________________________________________________________\n",
            "MaxPool2 (MaxPooling2D)      (None, 11, 11, 64)        0         \n",
            "_________________________________________________________________\n",
            "flatten_3 (Flatten)          (None, 7744)              0         \n",
            "_________________________________________________________________\n",
            "dropout_2 (Dropout)          (None, 7744)              0         \n",
            "_________________________________________________________________\n",
            "dense_8 (Dense)              (None, 128)               991360    \n",
            "_________________________________________________________________\n",
            "dropout_3 (Dropout)          (None, 128)               0         \n",
            "_________________________________________________________________\n",
            "dense_9 (Dense)              (None, 10)                1290      \n",
            "=================================================================\n",
            "Total params: 1,011,466\n",
            "Trainable params: 1,011,466\n",
            "Non-trainable params: 0\n",
            "_________________________________________________________________\n",
            "Model: \"sequential_4\"\n",
            "_________________________________________________________________\n",
            "Layer (type)                 Output Shape              Param #   \n",
            "=================================================================\n",
            "flatten_4 (Flatten)          (None, 784)               0         \n",
            "_________________________________________________________________\n",
            "dense_10 (Dense)             (None, 784)               615440    \n",
            "_________________________________________________________________\n",
            "dense_11 (Dense)             (None, 784)               615440    \n",
            "_________________________________________________________________\n",
            "dense_12 (Dense)             (None, 10)                7850      \n",
            "=================================================================\n",
            "Total params: 1,238,730\n",
            "Trainable params: 1,238,730\n",
            "Non-trainable params: 0\n",
            "_________________________________________________________________\n"
          ]
        }
      ],
      "source": [
        "#@test {\"output\": \"ignore\"}\n",
        "from warnings import filters\n",
        "\n",
        "# Build CNN teacher.\n",
        "cnn_model = tf.keras.Sequential([tf.keras.layers.Conv2D(input_shape=(28,28,1), kernel_size=3, strides=1, filters=32, activation='relu', name='Conv1'),\n",
        "                                tf.keras.layers.MaxPool2D(pool_size=(2, 2), strides=1, name='MaxPool1'),\n",
        "                                tf.keras.layers.Conv2D(kernel_size=3, strides=1, filters=64, activation='relu', name='Conv2'),\n",
        "                                tf.keras.layers.MaxPool2D(pool_size=(2, 2), strides=2, name='MaxPool2'),\n",
        "                                tf.keras.layers.Flatten(),\n",
        "                                tf.keras.layers.Dropout(0.5),\n",
        "                                tf.keras.layers.Dense(128, activation='relu'),\n",
        "                                tf.keras.layers.Dropout(0.5),\n",
        "                                tf.keras.layers.Dense(NUM_CLASSES)])\n",
        "cnn_model.build()\n",
        "cnn_model.summary()\n",
        "\n",
        "\n",
        "# Build fully connected student.\n",
        "fc_model = tf.keras.Sequential([tf.keras.layers.Flatten(input_shape=(28,28,1)),\n",
        "                                tf.keras.layers.Dense(784, activation='relu'),\n",
        "                                tf.keras.layers.Dense(784, activation='relu'),\n",
        "                                tf.keras.layers.Dense(NUM_CLASSES)])\n",
        "fc_model.build()\n",
        "fc_model.summary()\n",
        "\n"
      ]
    },
    {
      "cell_type": "markdown",
      "metadata": {
        "id": "8JWGucyrQGav"
      },
      "source": [
        "# Teacher loss function"
      ]
    },
    {
      "cell_type": "code",
      "execution_count": 26,
      "metadata": {
        "id": "DhzBP6ZLQJ57"
      },
      "outputs": [],
      "source": [
        "@tf.function\n",
        "def compute_teacher_loss(images, labels):\n",
        "  \"\"\"Compute subclass knowledge distillation teacher loss for given images\n",
        "     and labels.\n",
        "\n",
        "  Args:\n",
        "    images: Tensor representing a batch of images.\n",
        "    labels: Tensor representing a batch of labels.\n",
        "\n",
        "  Returns:\n",
        "    Scalar loss Tensor.\n",
        "  \"\"\"\n",
        "  subclass_logits = cnn_model(images, training=True)\n",
        "\n",
        "  # Compute cross-entropy loss for subclasses.\n",
        "\n",
        "  # your code start from here for step 3\n",
        "  cross_entropy_loss_value = tf.nn.softmax_cross_entropy_with_logits(labels, subclass_logits)\n",
        "\n",
        "\n",
        "  return cross_entropy_loss_value"
      ]
    },
    {
      "cell_type": "markdown",
      "metadata": {
        "id": "JS8xkuH0QbOS"
      },
      "source": [
        "# Student loss function"
      ]
    },
    {
      "cell_type": "code",
      "execution_count": 27,
      "metadata": {
        "id": "lDKia4gPQMIr"
      },
      "outputs": [],
      "source": [
        "#@test {\"output\": \"ignore\"}\n",
        "\n",
        "# Hyperparameters for distillation (need to be tuned).\n",
        "ALPHA = 0.5 # task balance between cross-entropy and distillation loss\n",
        "DISTILLATION_TEMPERATURE = 4. #temperature hyperparameter\n",
        "\n",
        "def distillation_loss(teacher_logits: tf.Tensor, student_logits: tf.Tensor,\n",
        "                      temperature: Union[float, tf.Tensor]):\n",
        "  \"\"\"Compute distillation loss.\n",
        "\n",
        "  This function computes cross entropy between softened logits and softened\n",
        "  targets. The resulting loss is scaled by the squared temperature so that\n",
        "  the gradient magnitude remains approximately constant as the temperature is\n",
        "  changed. For reference, see Hinton et al., 2014, \"Distilling the knowledge in\n",
        "  a neural network.\"\n",
        "\n",
        "  Args:\n",
        "    teacher_logits: A Tensor of logits provided by the teacher.\n",
        "    student_logits: A Tensor of logits provided by the student, of the same\n",
        "      shape as `teacher_logits`.\n",
        "    temperature: Temperature to use for distillation.\n",
        "\n",
        "  Returns:\n",
        "    A scalar Tensor containing the distillation loss.\n",
        "  \"\"\"\n",
        "  # your code start from here for step 3\n",
        "  # softmax modified with temperature for teacher logits\n",
        "  soft_targets = tf.nn.softmax(teacher_logits / temperature)\n",
        "\n",
        "  return tf.reduce_mean(\n",
        "      tf.nn.softmax_cross_entropy_with_logits(\n",
        "          soft_targets, student_logits / temperature)) * temperature ** 2\n",
        "\n",
        "def compute_student_loss(images, labels):\n",
        "  \"\"\"Compute subclass knowledge distillation student loss for given images\n",
        "     and labels.\n",
        "\n",
        "  Args:\n",
        "    images: Tensor representing a batch of images.\n",
        "    labels: Tensor representing a batch of labels.\n",
        "\n",
        "  Returns:\n",
        "    Scalar loss Tensor.\n",
        "  \"\"\"\n",
        "  student_subclass_logits = fc_model(images, training=True)\n",
        "\n",
        "  # Compute subclass distillation loss between student subclass logits and\n",
        "  # softened teacher subclass targets probabilities.\n",
        "\n",
        "  # your code start from here for step 3\n",
        "\n",
        "  teacher_subclass_logits = cnn_model(images, training=False)\n",
        "  #print(\"Using temperature: \" + str(DISTILLATION_TEMPERATURE))\n",
        "  distillation_loss_value = distillation_loss(teacher_subclass_logits, student_subclass_logits, DISTILLATION_TEMPERATURE)\n",
        "\n",
        "  # Compute cross-entropy loss with hard targets.\n",
        "\n",
        "  # your code start from here for step 3\n",
        "\n",
        "  cross_entropy_loss_value = tf.nn.softmax_cross_entropy_with_logits(labels, student_subclass_logits)\n",
        "\n",
        "  return (1 - ALPHA) * cross_entropy_loss_value + ALPHA * distillation_loss_value"
      ]
    },
    {
      "cell_type": "markdown",
      "metadata": {
        "id": "RJ1uyvurQ3w4"
      },
      "source": [
        "# Train and evaluation"
      ]
    },
    {
      "cell_type": "code",
      "execution_count": 28,
      "metadata": {
        "id": "EtoLbp8uQ4Vl"
      },
      "outputs": [],
      "source": [
        "from email.mime import image\n",
        "\n",
        "\n",
        "@tf.function\n",
        "def compute_num_correct(model, images, labels):\n",
        "  \"\"\"Compute number of correctly classified images in a batch.\n",
        "\n",
        "  Args:\n",
        "    model: Instance of tf.keras.Model.\n",
        "    images: Tensor representing a batch of images.\n",
        "    labels: Tensor representing a batch of labels.\n",
        "\n",
        "  Returns:\n",
        "    Number of correctly classified images.\n",
        "  \"\"\"\n",
        "  class_logits = model(images, training=False)\n",
        "  return tf.reduce_sum(\n",
        "      tf.cast(tf.math.equal(tf.argmax(class_logits, -1), tf.argmax(labels, -1)),\n",
        "              tf.float32)), tf.argmax(class_logits, -1), tf.argmax(labels, -1)\n",
        "\n",
        "\n",
        "def train_and_evaluate(model, compute_loss_fn):\n",
        "  \"\"\"Perform training and evaluation for a given model.\n",
        "\n",
        "  Args:\n",
        "    model: Instance of tf.keras.Model.\n",
        "    compute_loss_fn: A function that computes the training loss given the\n",
        "      images, and labels.\n",
        "  \"\"\"\n",
        "\n",
        "  # your code start from here for step 4\n",
        "  optimizer = tf.keras.optimizers.Adam(learning_rate=0.001)\n",
        "\n",
        "  best_accuracy = 0.0\n",
        "  for epoch in range(1, NUM_EPOCHS + 1):\n",
        "    # Run training.\n",
        "    print('Epoch {}: '.format(epoch), end='')\n",
        "    for images, labels in mnist_train:\n",
        "      with tf.GradientTape() as tape:\n",
        "        # your code start from here for step 4\n",
        "        tape.watch(images) \n",
        "        loss_value = compute_loss_fn(images, labels)\n",
        "\n",
        "      grads = tape.gradient(loss_value, model.trainable_variables)\n",
        "      optimizer.apply_gradients(zip(grads, model.trainable_variables))\n",
        "\n",
        "    # Run evaluation.\n",
        "    num_correct = 0\n",
        "    num_total = builder.info.splits['test'].num_examples\n",
        "    for images, labels in mnist_test:\n",
        "      # your code start from here for step 4\n",
        "      num_correct += tf.keras.backend.get_value(compute_num_correct(model, images, labels)[0])\n",
        "    last_accuracy = num_correct / num_total * 100\n",
        "    if last_accuracy > best_accuracy:\n",
        "      best_accuracy = last_accuracy\n",
        "    print(\"Class_accuracy: \" + '{:.2f}%'.format(\n",
        "        last_accuracy))\n",
        "  return best_accuracy\n"
      ]
    },
    {
      "cell_type": "markdown",
      "metadata": {
        "id": "NQL1lJdaRPT1"
      },
      "source": [
        "# Training models"
      ]
    },
    {
      "cell_type": "code",
      "execution_count": 29,
      "metadata": {
        "id": "-AGHbyABRPz3"
      },
      "outputs": [
        {
          "name": "stdout",
          "output_type": "stream",
          "text": [
            "Epoch 1: Class_accuracy: 98.25%\n",
            "Epoch 2: Class_accuracy: 98.72%\n",
            "Epoch 3: Class_accuracy: 98.72%\n",
            "Epoch 4: Class_accuracy: 99.08%\n",
            "Epoch 5: Class_accuracy: 98.94%\n",
            "Epoch 6: Class_accuracy: 98.96%\n",
            "Epoch 7: Class_accuracy: 99.06%\n",
            "Epoch 8: Class_accuracy: 99.16%\n",
            "Epoch 9: Class_accuracy: 99.17%\n",
            "Epoch 10: Class_accuracy: 99.19%\n",
            "Epoch 11: Class_accuracy: 99.18%\n",
            "Epoch 12: Class_accuracy: 99.17%\n"
          ]
        },
        {
          "data": {
            "text/plain": [
              "99.19"
            ]
          },
          "execution_count": 29,
          "metadata": {},
          "output_type": "execute_result"
        }
      ],
      "source": [
        "# your code start from here for step 5 \n",
        "train_and_evaluate(cnn_model, compute_teacher_loss)"
      ]
    },
    {
      "cell_type": "code",
      "execution_count": 34,
      "metadata": {},
      "outputs": [
        {
          "name": "stdout",
          "output_type": "stream",
          "text": [
            "Training student model with regularization parameter value 0.1\n",
            "Epoch 1: Class_accuracy: 97.06%\n",
            "Epoch 2: Class_accuracy: 97.86%\n",
            "Epoch 3: Class_accuracy: 98.28%\n",
            "Epoch 4: Class_accuracy: 98.45%\n",
            "Epoch 5: Class_accuracy: 98.51%\n",
            "Epoch 6: Class_accuracy: 98.67%\n",
            "Epoch 7: Class_accuracy: 98.65%\n",
            "Epoch 8: Class_accuracy: 98.71%\n",
            "Epoch 9: Class_accuracy: 98.76%\n",
            "Epoch 10: Class_accuracy: 98.79%\n",
            "Epoch 11: Class_accuracy: 98.85%\n",
            "Epoch 12: Class_accuracy: 98.91%\n",
            "Training student model with regularization parameter value 0.3\n",
            "Epoch 1: Class_accuracy: 97.08%\n",
            "Epoch 2: Class_accuracy: 97.99%\n",
            "Epoch 3: Class_accuracy: 98.33%\n",
            "Epoch 4: Class_accuracy: 98.46%\n",
            "Epoch 5: Class_accuracy: 98.57%\n",
            "Epoch 6: Class_accuracy: 98.64%\n",
            "Epoch 7: Class_accuracy: 98.71%\n",
            "Epoch 8: Class_accuracy: 98.62%\n",
            "Epoch 9: Class_accuracy: 98.81%\n",
            "Epoch 10: Class_accuracy: 98.73%\n",
            "Epoch 11: Class_accuracy: 98.84%\n",
            "Epoch 12: Class_accuracy: 98.80%\n",
            "Training student model with regularization parameter value 0.5\n",
            "Epoch 1: Class_accuracy: 96.83%\n",
            "Epoch 2: Class_accuracy: 97.88%\n",
            "Epoch 3: Class_accuracy: 98.10%\n",
            "Epoch 4: Class_accuracy: 98.39%\n",
            "Epoch 5: Class_accuracy: 98.47%\n",
            "Epoch 6: Class_accuracy: 98.64%\n",
            "Epoch 7: Class_accuracy: 98.77%\n",
            "Epoch 8: Class_accuracy: 98.69%\n",
            "Epoch 9: Class_accuracy: 98.69%\n",
            "Epoch 10: Class_accuracy: 98.70%\n",
            "Epoch 11: Class_accuracy: 98.82%\n",
            "Epoch 12: Class_accuracy: 98.84%\n",
            "Training student model with regularization parameter value 0.7\n",
            "Epoch 1: Class_accuracy: 96.55%\n",
            "Epoch 2: Class_accuracy: 97.86%\n",
            "Epoch 3: Class_accuracy: 98.12%\n",
            "Epoch 4: Class_accuracy: 98.33%\n",
            "Epoch 5: Class_accuracy: 98.51%\n",
            "Epoch 6: Class_accuracy: 98.52%\n",
            "Epoch 7: Class_accuracy: 98.66%\n",
            "Epoch 8: Class_accuracy: 98.81%\n",
            "Epoch 9: Class_accuracy: 98.73%\n",
            "Epoch 10: Class_accuracy: 98.76%\n",
            "Epoch 11: Class_accuracy: 98.69%\n",
            "Epoch 12: Class_accuracy: 98.78%\n",
            "Training student model with regularization parameter value 0.9\n",
            "Epoch 1: Class_accuracy: 96.63%\n",
            "Epoch 2: Class_accuracy: 97.68%\n",
            "Epoch 3: Class_accuracy: 98.20%\n",
            "Epoch 4: Class_accuracy: 98.46%\n",
            "Epoch 5: Class_accuracy: 98.49%\n",
            "Epoch 6: Class_accuracy: 98.61%\n",
            "Epoch 7: Class_accuracy: 98.64%\n",
            "Epoch 8: Class_accuracy: 98.68%\n",
            "Epoch 9: Class_accuracy: 98.72%\n",
            "Epoch 10: Class_accuracy: 98.60%\n",
            "Epoch 11: Class_accuracy: 98.72%\n",
            "Epoch 12: Class_accuracy: 98.79%\n",
            "{0.1: 98.91, 0.3: 98.83999999999999, 0.5: 98.83999999999999, 0.7: 98.81, 0.9: 98.79}\n"
          ]
        }
      ],
      "source": [
        "#temperature 1 = {0.1: 98.14, 0.3: 98.52, 0.5: 98.43, 0.7: 98.41, 0.9: 98.39}\n",
        "#temperature 4 = {0.1: 98.68, 0.3: 98.77, 0.5: 98.72, 0.7: 98.69, 0.9: 98.70}\n",
        "#temperature 16= {0.1: 98.89, 0.3: 98.80, 0.5: 98.80, 0.7: 98.81, 0.9: 98.76}\n",
        "#temperature 32= {0.1: 98.83, 0.3: 98.81, 0.5: 98.91, 0.7: 98.82, 0.9: 98.85}\n",
        "#temperature 64= {0.1: 98.91, 0.3: 98.83, 0.5: 98.83, 0.7: 98.81, 0.9: 98.79}\n",
        "test_reg_param = [0.1, 0.3, 0.5, 0.7, 0.9]\n",
        "accuracy_results = dict()\n",
        "for reg_param in test_reg_param:\n",
        "    ALPHA = reg_param\n",
        "    DISTILLATION_TEMPERATURE = 64\n",
        "    print(\"Training student model with regularization parameter value \" + str(ALPHA))\n",
        "    fc_model = tf.keras.Sequential([tf.keras.layers.Flatten(input_shape=(28,28,1)),\n",
        "                                tf.keras.layers.Dense(784, activation='relu'),\n",
        "                                tf.keras.layers.Dense(784, activation='relu'),\n",
        "                                tf.keras.layers.Dense(NUM_CLASSES)])\n",
        "    fc_model.build()\n",
        "    accuracy = train_and_evaluate(fc_model, compute_student_loss)\n",
        "    accuracy_results[reg_param] = accuracy\n",
        "print(accuracy_results)"
      ]
    },
    {
      "cell_type": "code",
      "execution_count": 21,
      "metadata": {},
      "outputs": [
        {
          "name": "stdout",
          "output_type": "stream",
          "text": [
            "Training student model with temperature 1\n",
            "Epoch 1: Class_accuracy: 96.82%\n",
            "Epoch 2: Class_accuracy: 97.23%\n",
            "Epoch 3: Class_accuracy: 98.01%\n",
            "Epoch 4: Class_accuracy: 97.97%\n",
            "Epoch 5: Class_accuracy: 98.08%\n",
            "Epoch 6: Class_accuracy: 98.00%\n",
            "Epoch 7: Class_accuracy: 98.13%\n",
            "Epoch 8: Class_accuracy: 98.14%\n",
            "Epoch 9: Class_accuracy: 98.07%\n",
            "Epoch 10: Class_accuracy: 98.36%\n",
            "Epoch 11: Class_accuracy: 98.17%\n",
            "Epoch 12: Class_accuracy: 98.30%\n",
            "Training student model with temperature 2\n",
            "Epoch 1: Class_accuracy: 96.55%\n",
            "Epoch 2: Class_accuracy: 97.44%\n",
            "Epoch 3: Class_accuracy: 97.97%\n",
            "Epoch 4: Class_accuracy: 98.05%\n",
            "Epoch 5: Class_accuracy: 98.39%\n",
            "Epoch 6: Class_accuracy: 98.35%\n",
            "Epoch 7: Class_accuracy: 98.41%\n",
            "Epoch 8: Class_accuracy: 98.49%\n",
            "Epoch 9: Class_accuracy: 98.52%\n",
            "Epoch 10: Class_accuracy: 98.50%\n",
            "Epoch 11: Class_accuracy: 98.58%\n",
            "Epoch 12: Class_accuracy: 98.47%\n",
            "Training student model with temperature 4\n",
            "Epoch 1: Class_accuracy: 96.75%\n",
            "Epoch 2: Class_accuracy: 97.98%\n",
            "Epoch 3: Class_accuracy: 98.36%\n",
            "Epoch 4: Class_accuracy: 98.53%\n",
            "Epoch 5: Class_accuracy: 98.65%\n",
            "Epoch 6: Class_accuracy: 98.68%\n",
            "Epoch 7: Class_accuracy: 98.76%\n",
            "Epoch 8: Class_accuracy: 98.78%\n",
            "Epoch 9: Class_accuracy: 98.84%\n",
            "Epoch 10: Class_accuracy: 98.82%\n",
            "Epoch 11: Class_accuracy: 98.84%\n",
            "Epoch 12: Class_accuracy: 98.80%\n",
            "Training student model with temperature 16\n",
            "Epoch 1: Class_accuracy: 97.00%\n",
            "Epoch 2: Class_accuracy: 98.00%\n",
            "Epoch 3: Class_accuracy: 98.39%\n",
            "Epoch 4: Class_accuracy: 98.61%\n",
            "Epoch 5: Class_accuracy: 98.47%\n",
            "Epoch 6: Class_accuracy: 98.73%\n",
            "Epoch 7: Class_accuracy: 98.69%\n",
            "Epoch 8: Class_accuracy: 98.76%\n",
            "Epoch 9: Class_accuracy: 98.74%\n",
            "Epoch 10: Class_accuracy: 98.81%\n",
            "Epoch 11: Class_accuracy: 98.84%\n",
            "Epoch 12: Class_accuracy: 98.89%\n",
            "Training student model with temperature 32\n",
            "Epoch 1: Class_accuracy: 97.01%\n",
            "Epoch 2: Class_accuracy: 97.93%\n",
            "Epoch 3: Class_accuracy: 98.41%\n",
            "Epoch 4: Class_accuracy: 98.59%\n",
            "Epoch 5: Class_accuracy: 98.60%\n",
            "Epoch 6: Class_accuracy: 98.65%\n",
            "Epoch 7: Class_accuracy: 98.68%\n",
            "Epoch 8: Class_accuracy: 98.73%\n",
            "Epoch 9: Class_accuracy: 98.75%\n",
            "Epoch 10: Class_accuracy: 98.75%\n",
            "Epoch 11: Class_accuracy: 98.82%\n",
            "Epoch 12: Class_accuracy: 98.91%\n",
            "Training student model with temperature 64\n",
            "Epoch 1: Class_accuracy: 96.91%\n",
            "Epoch 2: Class_accuracy: 97.94%\n",
            "Epoch 3: Class_accuracy: 98.27%\n",
            "Epoch 4: Class_accuracy: 98.45%\n",
            "Epoch 5: Class_accuracy: 98.57%\n",
            "Epoch 6: Class_accuracy: 98.63%\n",
            "Epoch 7: Class_accuracy: 98.74%\n",
            "Epoch 8: Class_accuracy: 98.75%\n",
            "Epoch 9: Class_accuracy: 98.80%\n",
            "Epoch 10: Class_accuracy: 98.85%\n",
            "Epoch 11: Class_accuracy: 98.82%\n",
            "Epoch 12: Class_accuracy: 98.87%\n",
            "{1: 98.36, 2: 98.58, 4: 98.83999999999999, 16: 98.89, 32: 98.91, 64: 98.87}\n"
          ]
        }
      ],
      "source": [
        "test_temperatures = [1, 2, 4, 16, 32, 64]\n",
        "accuracy_results = dict()\n",
        "for temperature in test_temperatures:\n",
        "    DISTILLATION_TEMPERATURE = temperature\n",
        "    print(\"Training student model with temperature \" + str(DISTILLATION_TEMPERATURE))\n",
        "    fc_model = tf.keras.Sequential([tf.keras.layers.Flatten(input_shape=(28,28,1)),\n",
        "                                tf.keras.layers.Dense(784, activation='relu'),\n",
        "                                tf.keras.layers.Dense(784, activation='relu'),\n",
        "                                tf.keras.layers.Dense(NUM_CLASSES)])\n",
        "    fc_model.build()\n",
        "    accuracy = train_and_evaluate(fc_model, compute_student_loss)\n",
        "    accuracy_results[temperature] = accuracy\n",
        "print(accuracy_results)"
      ]
    },
    {
      "cell_type": "markdown",
      "metadata": {
        "id": "sj1N38fnRTNB"
      },
      "source": [
        "# Test accuracy vs. tempreture curve"
      ]
    },
    {
      "cell_type": "code",
      "execution_count": 16,
      "metadata": {
        "id": "gX4dbazrRWIz"
      },
      "outputs": [
        {
          "data": {
            "image/png": "[encoded data removed]",
            "text/plain": [
              "<Figure size 1280x640 with 1 Axes>"
            ]
          },
          "metadata": {},
          "output_type": "display_data"
        }
      ],
      "source": [
        "# your code start from here for step 6\n",
        "import numpy as np\n",
        "from scipy.interpolate import make_interp_spline\n",
        "import matplotlib.pyplot as plt\n",
        "import seaborn as sns\n",
        "\n",
        "large = 22; med = 16; small = 12\n",
        "params = {'axes.titlesize': large,\n",
        "            'legend.fontsize': large,\n",
        "            'figure.figsize': (16, 10),\n",
        "            'axes.labelsize': med,\n",
        "            'axes.titlesize': med,\n",
        "            'xtick.labelsize': med,\n",
        "            'ytick.labelsize': med,\n",
        "            'figure.titlesize': large}\n",
        "plt.rcParams.update(params)\n",
        "plt.style.use('seaborn-whitegrid')\n",
        "sns.set_style(\"white\")\n",
        "plt.figure(figsize=(16,8), dpi=80)\n",
        "\n",
        "test_temperatures = [1, 2, 4, 16, 32, 64]\n",
        "accuracy_results = {1: 98.36, 2: 98.58, 4: 98.83999999999999, 16: 98.89, 32: 98.91, 64: 98.87}\n",
        "\n",
        "x = np.array(test_temperatures)\n",
        "accuracy_value_results = []\n",
        "for temp in test_temperatures:\n",
        "    accuracy_value_results.append(accuracy_results[temp])\n",
        "y = np.array(accuracy_value_results)\n",
        "\n",
        "plt.plot(x, y)\n",
        "plt.title(\"Student Test Accuracy Versus Temperature\")\n",
        "plt.xlabel(\"Temperature\")\n",
        "plt.ylabel(\"Accuracy\")\n",
        "plt.savefig(\"temperature_vs_accuracy.svg\", format=\"svg\")\n",
        "plt.show()"
      ]
    },
    {
      "cell_type": "markdown",
      "metadata": {},
      "source": [
        "# Alpha versus Accuracy versus Temperature"
      ]
    },
    {
      "cell_type": "code",
      "execution_count": 38,
      "metadata": {},
      "outputs": [
        {
          "data": {
            "text/plain": [
              "<Figure size 1600x1000 with 0 Axes>"
            ]
          },
          "metadata": {},
          "output_type": "display_data"
        },
        {
          "data": {
            "image/png": "[encoded data removed]",
            "text/plain": [
              "<Figure size 1280x640 with 1 Axes>"
            ]
          },
          "metadata": {},
          "output_type": "display_data"
        }
      ],
      "source": [
        "import numpy as np\n",
        "from scipy.interpolate import make_interp_spline\n",
        "import matplotlib.pyplot as plt\n",
        "import seaborn as sns\n",
        "\n",
        "plt.clf()\n",
        "large = 22; med = 16; small = 12\n",
        "params = {'axes.titlesize': large,\n",
        "            'legend.fontsize': large,\n",
        "            'figure.figsize': (16, 10),\n",
        "            'axes.labelsize': med,\n",
        "            'axes.titlesize': med,\n",
        "            'xtick.labelsize': med,\n",
        "            'ytick.labelsize': med,\n",
        "            'figure.titlesize': large}\n",
        "plt.rcParams.update(params)\n",
        "plt.style.use('seaborn-whitegrid')\n",
        "sns.set_style(\"white\")\n",
        "plt.figure(figsize=(16,8), dpi=80)\n",
        "\n",
        "test_reg_param = [0.1, 0.3, 0.5, 0.7, 0.9]\n",
        "temperature_1 = [98.14, 98.52, 98.43, 98.41, 98.39]\n",
        "temperature_4 = [98.68, 98.77, 98.72, 98.69, 98.70]\n",
        "temperature_16 = [98.89, 98.80, 98.80, 98.81, 98.76]\n",
        "temperature_32 = [98.83, 98.81, 98.91, 98.82, 98.85]\n",
        "temperature_64 = [98.91, 98.83, 98.83, 98.81, 98.79]\n",
        "\n",
        "x = np.array(test_reg_param)\n",
        "y_1 = np.array(temperature_1)\n",
        "y_4 = np.array(temperature_4)\n",
        "y_16 = np.array(temperature_16)\n",
        "y_32 = np.array(temperature_32)\n",
        "y_64 = np.array(temperature_64)\n",
        "\n",
        "plt.title(\"Student Test Accuracy Versus Task Balance Parameter Across Temperatures\")\n",
        "plt.xlabel(\"Task Balance Value\")\n",
        "plt.ylabel(\"Accuracy\")\n",
        "plt.plot(x, y_1, label = \"Temperature = 1\")\n",
        "plt.plot(x, y_4, label = \"Temperature = 4\")\n",
        "plt.plot(x, y_16, label = \"Temperature = 16\")\n",
        "plt.plot(x, y_32, label = \"Temperature = 32\")\n",
        "plt.plot(x, y_64, label = \"Temperature = 64\")\n",
        "plt.legend()\n",
        "plt.savefig(\"task_balance_vs_accuracy.svg\", format=\"svg\")\n",
        "plt.show()"
      ]
    },
    {
      "cell_type": "markdown",
      "metadata": {
        "id": "WNrH_1emRbGA"
      },
      "source": [
        "# Train student from scratch"
      ]
    },
    {
      "cell_type": "code",
      "execution_count": 17,
      "metadata": {
        "id": "HjospsxIRbQ6"
      },
      "outputs": [
        {
          "name": "stdout",
          "output_type": "stream",
          "text": [
            "Epoch 1: Class_accuracy: 96.55%\n",
            "Epoch 2: Class_accuracy: 97.43%\n",
            "Epoch 3: Class_accuracy: 97.91%\n",
            "Epoch 4: Class_accuracy: 97.63%\n",
            "Epoch 5: Class_accuracy: 97.87%\n",
            "Epoch 6: Class_accuracy: 98.17%\n",
            "Epoch 7: Class_accuracy: 98.19%\n",
            "Epoch 8: Class_accuracy: 97.96%\n",
            "Epoch 9: Class_accuracy: 98.34%\n",
            "Epoch 10: Class_accuracy: 98.18%\n",
            "Epoch 11: Class_accuracy: 98.22%\n",
            "Epoch 12: Class_accuracy: 98.03%\n"
          ]
        },
        {
          "data": {
            "text/plain": [
              "98.34"
            ]
          },
          "execution_count": 17,
          "metadata": {},
          "output_type": "execute_result"
        }
      ],
      "source": [
        "# Build fully connected student.\n",
        "fc_model_no_distillation = tf.keras.Sequential([tf.keras.layers.Flatten(input_shape=(28,28,1)),\n",
        "                                                tf.keras.layers.Dense(784, activation='relu'),\n",
        "                                                tf.keras.layers.Dense(784, activation='relu'),\n",
        "                                                tf.keras.layers.Dense(NUM_CLASSES)])\n",
        "\n",
        "# your code start from here for step 7\n",
        "\n",
        "\n",
        "\n",
        "#@test {\"output\": \"ignore\"}\n",
        "\n",
        "def compute_plain_cross_entropy_loss(images, labels):\n",
        "  \"\"\"Compute plain loss for given images and labels.\n",
        "\n",
        "  For fair comparison and convenience, this function also performs a\n",
        "  LogSumExp over subclasses, but does not perform subclass distillation.\n",
        "\n",
        "  Args:\n",
        "    images: Tensor representing a batch of images.\n",
        "    labels: Tensor representing a batch of labels.\n",
        "\n",
        "  Returns:\n",
        "    Scalar loss Tensor.\n",
        "  \"\"\"\n",
        "  # your code start from here for step 7\n",
        "\n",
        "  student_subclass_logits = fc_model_no_distillation(images, training=True)\n",
        "  cross_entropy_loss = tf.nn.softmax_cross_entropy_with_logits(labels, student_subclass_logits)\n",
        "  \n",
        "  return cross_entropy_loss\n",
        "\n",
        "\n",
        "train_and_evaluate(fc_model_no_distillation, compute_plain_cross_entropy_loss)"
      ]
    },
    {
      "cell_type": "markdown",
      "metadata": {
        "id": "yq3JTpQ4RuhR"
      },
      "source": [
        "# Comparing the teacher and student model (number of of parameters and FLOPs) "
      ]
    },
    {
      "cell_type": "code",
      "execution_count": 22,
      "metadata": {
        "id": "4V8GB2yRRuxF"
      },
      "outputs": [
        {
          "name": "stdout",
          "output_type": "stream",
          "text": [
            "The number of FLOPs for the teacher model for a batch size of 256is: 5642766848\n",
            "The number of FLOPs for the student model for a batch size of 256is: 633825792\n",
            "This means that the teacher model is 8.902709418300226x times computationally more expensive than the student model.\n",
            "The number of parameters in the teacher model is: 1011466.0\n",
            "The number of parameters in the student model is: 1238730.0\n",
            "This means that the teacher model is 0.816534676644628x times larger than the student model.\n",
            "This in turn means that while in terms of parameters the teacher model is smaller than the student model, it is much more computationally expensive.\n"
          ]
        }
      ],
      "source": [
        "# your code start from here for step 8\n",
        "from keras_flops import get_flops\n",
        "flops_teacher = get_flops(cnn_model, batch_size=BATCH_SIZE)\n",
        "flops_student = get_flops(fc_model, batch_size=BATCH_SIZE)\n",
        "print(\"The number of FLOPs for the teacher model for a batch size of \" + str(BATCH_SIZE) + \"is: \" + str(flops_teacher))\n",
        "print(\"The number of FLOPs for the student model for a batch size of \" + str(BATCH_SIZE) + \"is: \" + str(flops_student))\n",
        "print(\"This means that the teacher model is \" + str(float(flops_teacher) / flops_student) + \"x times computationally more expensive than the student model.\")\n",
        "\n",
        "trainable_params_teacher = np.sum([np.prod(v.get_shape()) for v in cnn_model.trainable_weights]) # formula learnt from: https://lindevs.com/count-number-of-parameters-of-model-in-tensorflow-2\n",
        "nontrainable_params_teacher = np.sum([np.prod(v.get_shape()) for v in cnn_model.non_trainable_weights]) # formula learnt from: https://lindevs.com/count-number-of-parameters-of-model-in-tensorflow-2\n",
        "total_params_teacher = trainable_params_teacher + nontrainable_params_teacher\n",
        "\n",
        "trainable_params_student = np.sum([np.prod(v.get_shape()) for v in fc_model.trainable_weights])\n",
        "nontrainable_params_student = np.sum([np.prod(v.get_shape()) for v in fc_model.non_trainable_weights])\n",
        "total_params_student = trainable_params_student + nontrainable_params_student\n",
        "\n",
        "print(\"The number of parameters in the teacher model is: \" + str(total_params_teacher))\n",
        "print(\"The number of parameters in the student model is: \" + str(total_params_student))\n",
        "print(\"This means that the teacher model is \" + str(float(total_params_teacher) / total_params_student) + \"x times larger than the student model.\")\n",
        "print(\"This in turn means that while in terms of parameters the teacher model is smaller than the student model, it is much more computationally expensive.\")"
      ]
    },
    {
      "cell_type": "markdown",
      "metadata": {
        "id": "KjwJ5oziRvRn"
      },
      "source": [
        "# Implementing the state-of-the-art KD algorithm"
      ]
    },
    {
      "cell_type": "code",
      "execution_count": 40,
      "metadata": {
        "id": "q10lybAFRvZt"
      },
      "outputs": [
        {
          "name": "stdout",
          "output_type": "stream",
          "text": [
            "Model: \"sequential_32\"\n",
            "_________________________________________________________________\n",
            "Layer (type)                 Output Shape              Param #   \n",
            "=================================================================\n",
            "Conv1 (Conv2D)               (None, 26, 26, 32)        320       \n",
            "_________________________________________________________________\n",
            "MaxPool1 (MaxPooling2D)      (None, 25, 25, 32)        0         \n",
            "_________________________________________________________________\n",
            "Conv2 (Conv2D)               (None, 23, 23, 64)        18496     \n",
            "_________________________________________________________________\n",
            "MaxPool2 (MaxPooling2D)      (None, 11, 11, 64)        0         \n",
            "_________________________________________________________________\n",
            "flatten_32 (Flatten)         (None, 7744)              0         \n",
            "_________________________________________________________________\n",
            "dropout_6 (Dropout)          (None, 7744)              0         \n",
            "_________________________________________________________________\n",
            "dense_93 (Dense)             (None, 128)               991360    \n",
            "_________________________________________________________________\n",
            "dropout_7 (Dropout)          (None, 128)               0         \n",
            "_________________________________________________________________\n",
            "dense_94 (Dense)             (None, 10)                1290      \n",
            "=================================================================\n",
            "Total params: 1,011,466\n",
            "Trainable params: 1,011,466\n",
            "Non-trainable params: 0\n",
            "_________________________________________________________________\n",
            "Model: \"sequential_33\"\n",
            "_________________________________________________________________\n",
            "Layer (type)                 Output Shape              Param #   \n",
            "=================================================================\n",
            "flatten_33 (Flatten)         (None, 784)               0         \n",
            "_________________________________________________________________\n",
            "dense_95 (Dense)             (None, 784)               615440    \n",
            "_________________________________________________________________\n",
            "dense_96 (Dense)             (None, 784)               615440    \n",
            "_________________________________________________________________\n",
            "dense_97 (Dense)             (None, 10)                7850      \n",
            "=================================================================\n",
            "Total params: 1,238,730\n",
            "Trainable params: 1,238,730\n",
            "Non-trainable params: 0\n",
            "_________________________________________________________________\n",
            "Epoch 1: Class_accuracy: 98.29%\n",
            "Epoch 2: Class_accuracy: 98.15%\n",
            "Epoch 3: Class_accuracy: 98.84%\n",
            "Epoch 4: Class_accuracy: 98.95%\n",
            "Epoch 5: Class_accuracy: 99.00%\n",
            "Epoch 6: Class_accuracy: 99.22%\n",
            "Epoch 7: Class_accuracy: 99.15%\n",
            "Epoch 8: Class_accuracy: 99.22%\n",
            "Epoch 9: Class_accuracy: 99.07%\n",
            "Epoch 10: Class_accuracy: 99.04%\n",
            "Epoch 11: Class_accuracy: 99.30%\n",
            "Epoch 12: Class_accuracy: 99.24%\n",
            "Epoch 1: Class_accuracy: 96.69%\n",
            "Epoch 2: Class_accuracy: 97.89%\n",
            "Epoch 3: Class_accuracy: 98.27%\n",
            "Epoch 4: Class_accuracy: 98.41%\n",
            "Epoch 5: Class_accuracy: 98.50%\n",
            "Epoch 6: Class_accuracy: 98.64%\n",
            "Epoch 7: Class_accuracy: 98.64%\n",
            "Epoch 8: Class_accuracy: 98.63%\n",
            "Epoch 9: Class_accuracy: 98.73%\n",
            "Epoch 10: Class_accuracy: 98.71%\n",
            "Epoch 11: Class_accuracy: 98.81%\n",
            "Epoch 12: Class_accuracy: 98.67%\n",
            "Teacher best accuracy was: 99.3\n",
            "Student best accuracy with novel method was: 98.81\n"
          ]
        }
      ],
      "source": [
        "# your code start from here for step 12\n",
        "#@test {\"output\": \"ignore\"}\n",
        "from warnings import filters\n",
        "\n",
        "# Build CNN teacher.\n",
        "cnn_model = tf.keras.Sequential([tf.keras.layers.Conv2D(input_shape=(28,28,1), kernel_size=3, strides=1, filters=32, activation='relu', name='Conv1'),\n",
        "                                tf.keras.layers.MaxPool2D(pool_size=(2, 2), strides=1, name='MaxPool1'),\n",
        "                                tf.keras.layers.Conv2D(kernel_size=3, strides=1, filters=64, activation='relu', name='Conv2'),\n",
        "                                tf.keras.layers.MaxPool2D(pool_size=(2, 2), strides=2, name='MaxPool2'),\n",
        "                                tf.keras.layers.Flatten(),\n",
        "                                tf.keras.layers.Dropout(0.5),\n",
        "                                tf.keras.layers.Dense(128, activation='relu'),\n",
        "                                tf.keras.layers.Dropout(0.5),\n",
        "                                tf.keras.layers.Dense(NUM_CLASSES)])\n",
        "cnn_model.build()\n",
        "cnn_model.summary()\n",
        "\n",
        "\n",
        "# Build fully connected student.\n",
        "fc_model = tf.keras.Sequential([tf.keras.layers.Flatten(input_shape=(28,28,1)),\n",
        "                                tf.keras.layers.Dense(784, activation='relu'),\n",
        "                                tf.keras.layers.Dense(784, activation='relu'),\n",
        "                                tf.keras.layers.Dense(NUM_CLASSES)])\n",
        "fc_model.build()\n",
        "fc_model.summary()\n",
        "\n",
        "# Hyperparameters for distillation (need to be tuned).\n",
        "BETA = 7.2 # task balance between cross-entropy and distillation loss\n",
        "GAMMA = 0.1\n",
        "TEACHER_TEMPERATURE = 4 # teacher temperature hyperparameter\n",
        "STUDENT_TEMPERATURE = 1 # student temperature hyperparameter\n",
        "LABEL_SMOOTHING_PARAMETER = 0.2 # label parameter similar as the parameter used in label smoothing\n",
        "\n",
        "@tf.function\n",
        "def compute_teacher_loss_new_method(images, labels):\n",
        "  \"\"\"Compute subclass knowledge distillation teacher loss for given images\n",
        "     and labels.\n",
        "\n",
        "  Args:\n",
        "    images: Tensor representing a batch of images.\n",
        "    labels: Tensor representing a batch of labels.\n",
        "\n",
        "  Returns:\n",
        "    Scalar loss Tensor.\n",
        "  \"\"\"\n",
        "  subclass_logits = cnn_model(images, training=True)\n",
        "\n",
        "  # Compute cross-entropy loss for subclasses.\n",
        "\n",
        "  # your code start from here for step 3\n",
        "  cross_entropy_loss_value = tf.nn.softmax_cross_entropy_with_logits(labels, subclass_logits)\n",
        "\n",
        "\n",
        "  return cross_entropy_loss_value\n",
        "\n",
        "def distillation_loss_new_method(teacher_logits: tf.Tensor, student_logits: tf.Tensor,\n",
        "                      temperature: Union[float, tf.Tensor]):\n",
        "  \"\"\"Compute distillation loss.\n",
        "\n",
        "  This function computes cross entropy between softened logits and softened\n",
        "  targets. The resulting loss is scaled by the squared temperature so that\n",
        "  the gradient magnitude remains approximately constant as the temperature is\n",
        "  changed. For reference, see Hinton et al., 2014, \"Distilling the knowledge in\n",
        "  a neural network.\"\n",
        "\n",
        "  Args:\n",
        "    teacher_logits: A Tensor of logits provided by the teacher.\n",
        "    student_logits: A Tensor of logits provided by the student, of the same\n",
        "      shape as `teacher_logits`.\n",
        "    temperature: Temperature to use for distillation.\n",
        "\n",
        "  Returns:\n",
        "    A scalar Tensor containing the distillation loss.\n",
        "  \"\"\"\n",
        "  # calculate uniform probability\n",
        "  u_prob = 1 / NUM_CLASSES\n",
        "\n",
        "  # calculate teacher class probabilities\n",
        "  p_t = tf.nn.softmax(teacher_logits / TEACHER_TEMPERATURE)\n",
        "\n",
        "  # calculate teacher probability deviations from uniform probability\n",
        "  prob_deviation = p_t - u_prob\n",
        "\n",
        "  # max between probability deviations and 0 to get distinctive deviations\n",
        "  distinct_prob_teacher = tf.nn.relu(prob_deviation)\n",
        "\n",
        "  # calculate magnitude of output tensor\n",
        "  tensor_numpy = tf.make_ndarray(distinct_prob_teacher)\n",
        "  p_distinct_t_magnitude = np.sqrt(tensor_numpy.dot(tensor_numpy))\n",
        "\n",
        "  # merge into teacher annotation\n",
        "  q_t = (1 - LABEL_SMOOTHING_PARAMETER) * (prob_deviation / p_distinct_t_magnitude) + LABEL_SMOOTHING_PARAMETER * u_prob\n",
        "\n",
        "  return tf.reduce_mean(tf.nn.softmax_cross_entropy_with_logits(q_t, student_logits / STUDENT_TEMPERATURE))\n",
        "\n",
        "def compute_student_loss_new_method(images, labels):\n",
        "  \"\"\"Compute subclass knowledge distillation student loss for given images\n",
        "     and labels.\n",
        "\n",
        "  Args:\n",
        "    images: Tensor representing a batch of images.\n",
        "    labels: Tensor representing a batch of labels.\n",
        "\n",
        "  Returns:\n",
        "    Scalar loss Tensor.\n",
        "  \"\"\"\n",
        "  student_subclass_logits = fc_model(images, training=True)\n",
        "\n",
        "  # Compute subclass distillation loss between student subclass logits and\n",
        "  # softened teacher subclass targets probabilities.\n",
        "\n",
        "  # your code start from here for step 3\n",
        "\n",
        "  teacher_subclass_logits = cnn_model(images, training=False)\n",
        "  #print(\"Using temperature: \" + str(DISTILLATION_TEMPERATURE))\n",
        "  distillation_loss_value = distillation_loss(teacher_subclass_logits, student_subclass_logits, DISTILLATION_TEMPERATURE)\n",
        "\n",
        "  # Compute cross-entropy loss with hard targets.\n",
        "\n",
        "  # your code start from here for step 3\n",
        "\n",
        "  cross_entropy_loss_value = tf.nn.softmax_cross_entropy_with_logits(labels, student_subclass_logits)\n",
        "\n",
        "  return GAMMA * cross_entropy_loss_value + BETA * distillation_loss_value\n",
        "\n",
        "teacher_accuracy = train_and_evaluate(cnn_model, compute_teacher_loss_new_method)\n",
        "student_accuracy = train_and_evaluate(fc_model, compute_student_loss_new_method)\n",
        "print(\"Teacher best accuracy was: \" + str(teacher_accuracy))\n",
        "print(\"Student best accuracy with novel method was: \" + str(student_accuracy))"
      ]
    },
    {
      "cell_type": "markdown",
      "metadata": {
        "id": "6dsOmtqdieIC"
      },
      "source": [
        "# (Optional) XAI method to explain models"
      ]
    },
    {
      "cell_type": "code",
      "execution_count": null,
      "metadata": {
        "id": "X0IMIFW8ilPO"
      },
      "outputs": [],
      "source": [
        "# your code start from here for step 13\n"
      ]
    }
  ],
  "metadata": {
    "colab": {
      "provenance": []
    },
    "kernelspec": {
      "display_name": "Python 3.9.13 ('tf_gpu')",
      "language": "python",
      "name": "python3"
    },
    "language_info": {
      "codemirror_mode": {
        "name": "ipython",
        "version": 3
      },
      "file_extension": ".py",
      "mimetype": "text/x-python",
      "name": "python",
      "nbconvert_exporter": "python",
      "pygments_lexer": "ipython3",
      "version": "3.9.13"
    },
    "vscode": {
      "interpreter": {
        "hash": "73e357180c10748ca7d4f3a1ac37ad0bc94f0b7537594ff0b43acb32581eda9f"
      }
    }
  },
  "nbformat": 4,
  "nbformat_minor": 0
}
